{
 "cells": [
  {
   "cell_type": "code",
   "execution_count": 3,
   "id": "391c9bde-beae-4c8d-9fd3-24e2088ca7b8",
   "metadata": {},
   "outputs": [],
   "source": [
    "\n",
    "from pymongo import MongoClient\n",
    "mongo = MongoClient(port = 27017)"
   ]
  },
  {
   "cell_type": "code",
   "execution_count": 4,
   "id": "40e03550-4c8e-44ee-b304-1284db97a395",
   "metadata": {},
   "outputs": [
    {
     "name": "stdout",
     "output_type": "stream",
     "text": [
      "['admin', 'config', 'local']\n"
     ]
    }
   ],
   "source": [
    "print(mongo.list_database_names())"
   ]
  },
  {
   "cell_type": "code",
   "execution_count": 5,
   "id": "e9d225f7-f797-401c-91b3-f5fc6699b98d",
   "metadata": {},
   "outputs": [],
   "source": [
    "my_first_db = mongo['my_db']"
   ]
  },
  {
   "cell_type": "code",
   "execution_count": 6,
   "id": "171f79b5-590f-4423-97b2-e3031ead2312",
   "metadata": {},
   "outputs": [
    {
     "name": "stdout",
     "output_type": "stream",
     "text": [
      "['admin', 'config', 'local']\n"
     ]
    }
   ],
   "source": [
    "print(mongo.list_database_names())"
   ]
  },
  {
   "cell_type": "code",
   "execution_count": 8,
   "id": "3cfbb978-5f8c-44f9-93d2-4f8391c55c5e",
   "metadata": {},
   "outputs": [
    {
     "data": {
      "text/plain": [
       "[]"
      ]
     },
     "execution_count": 8,
     "metadata": {},
     "output_type": "execute_result"
    }
   ],
   "source": [
    "my_first_collection = my_first_db['my_collection']\n",
    "my_first_db.list_collection_names()"
   ]
  },
  {
   "cell_type": "code",
   "execution_count": 9,
   "id": "f00b0b72-c662-4379-9a73-817be67a7bc1",
   "metadata": {},
   "outputs": [
    {
     "data": {
      "text/plain": [
       "<pymongo.results.InsertOneResult at 0x7f9dfc772370>"
      ]
     },
     "execution_count": 9,
     "metadata": {},
     "output_type": "execute_result"
    }
   ],
   "source": [
    "my_first_collection.insert_one({'name': 'Mickey'})"
   ]
  },
  {
   "cell_type": "code",
   "execution_count": 10,
   "id": "b205504b-f6d0-49ea-8909-df7e59b0f3bb",
   "metadata": {},
   "outputs": [
    {
     "name": "stdout",
     "output_type": "stream",
     "text": [
      "['admin', 'config', 'local', 'my_db']\n",
      "['my_collection']\n"
     ]
    }
   ],
   "source": [
    "print(mongo.list_database_names())\n",
    "print(my_first_db.list_collection_names())"
   ]
  },
  {
   "cell_type": "code",
   "execution_count": 11,
   "id": "9c4758e6-7b7c-43ac-bdb3-39c2181231c3",
   "metadata": {},
   "outputs": [
    {
     "data": {
      "text/plain": [
       "<pymongo.results.InsertOneResult at 0x7f9dfc7af160>"
      ]
     },
     "execution_count": 11,
     "metadata": {},
     "output_type": "execute_result"
    }
   ],
   "source": [
    "my_first_collection.insert_one({'name': 'Minnie', 'age': 90})"
   ]
  },
  {
   "cell_type": "code",
   "execution_count": 12,
   "id": "058d1223-e465-4f24-9796-4c99669dcf6e",
   "metadata": {},
   "outputs": [],
   "source": [
    "results = my_first_collection.find()"
   ]
  },
  {
   "cell_type": "code",
   "execution_count": 13,
   "id": "fd6438b0-f1b7-429f-b999-50db0228d5ef",
   "metadata": {},
   "outputs": [
    {
     "name": "stdout",
     "output_type": "stream",
     "text": [
      "{'_id': ObjectId('636af194c92d6259a699ae31'), 'name': 'Mickey'}\n",
      "{'_id': ObjectId('636af1c0c92d6259a699ae32'), 'name': 'Minnie', 'age': 90}\n"
     ]
    }
   ],
   "source": [
    "for result in results:\n",
    "    print(result)"
   ]
  },
  {
   "cell_type": "code",
   "execution_count": 14,
   "id": "f3fefdb7-73cd-4204-9b62-487d49fcc178",
   "metadata": {},
   "outputs": [
    {
     "data": {
      "text/plain": [
       "<pymongo.results.InsertOneResult at 0x7f9dfc79eee0>"
      ]
     },
     "execution_count": 14,
     "metadata": {},
     "output_type": "execute_result"
    }
   ],
   "source": [
    "goofy = {'_id': 3, 'name': 'Goofy', 'age': 87, 'species': 'dog'}\n",
    "my_first_collection.insert_one(goofy)"
   ]
  },
  {
   "cell_type": "code",
   "execution_count": 15,
   "id": "62517244-70f5-45e3-8f01-bbb40dd845db",
   "metadata": {},
   "outputs": [
    {
     "name": "stdout",
     "output_type": "stream",
     "text": [
      "{'_id': ObjectId('636af194c92d6259a699ae31'), 'name': 'Mickey'}\n",
      "{'_id': ObjectId('636af1c0c92d6259a699ae32'), 'name': 'Minnie', 'age': 90}\n",
      "{'_id': 3, 'name': 'Goofy', 'age': 87, 'species': 'dog'}\n"
     ]
    }
   ],
   "source": [
    "results = my_first_collection.find()\n",
    "for result in results:\n",
    "    print(result)"
   ]
  },
  {
   "cell_type": "code",
   "execution_count": 16,
   "id": "424c24a5-6561-4cab-b9f1-b62173071a38",
   "metadata": {},
   "outputs": [
    {
     "data": {
      "text/plain": [
       "<pymongo.results.InsertManyResult at 0x7f9dfc5c66a0>"
      ]
     },
     "execution_count": 16,
     "metadata": {},
     "output_type": "execute_result"
    }
   ],
   "source": [
    "animals = [{'name': 'Donald', 'species': 'duck'}, {'name': 'Daisy', 'species': 'duck'}]\n",
    "my_first_collection.insert_many(animals)"
   ]
  },
  {
   "cell_type": "code",
   "execution_count": 17,
   "id": "5dfdb4a6-3a66-40f6-a000-3a83aa379775",
   "metadata": {},
   "outputs": [
    {
     "name": "stdout",
     "output_type": "stream",
     "text": [
      "{'_id': ObjectId('636af194c92d6259a699ae31'), 'name': 'Mickey'}\n",
      "{'_id': ObjectId('636af1c0c92d6259a699ae32'), 'name': 'Minnie', 'age': 90}\n",
      "{'_id': 3, 'name': 'Goofy', 'age': 87, 'species': 'dog'}\n",
      "{'_id': ObjectId('636af270c92d6259a699ae33'), 'name': 'Donald', 'species': 'duck'}\n",
      "{'_id': ObjectId('636af270c92d6259a699ae34'), 'name': 'Daisy', 'species': 'duck'}\n"
     ]
    }
   ],
   "source": [
    "results = my_first_collection.find()\n",
    "for result in results:\n",
    "    print(result)"
   ]
  },
  {
   "cell_type": "code",
   "execution_count": 19,
   "id": "125ec89b-dc98-4725-8d39-780fadd1266c",
   "metadata": {},
   "outputs": [
    {
     "name": "stdout",
     "output_type": "stream",
     "text": [
      "{'_id': ObjectId('636af270c92d6259a699ae33'), 'name': 'Donald', 'species': 'duck'}\n"
     ]
    }
   ],
   "source": [
    "query = {'name': 'Donald'}\n",
    "results = my_first_collection.find(query)\n",
    "for result in results:\n",
    "    print(result)"
   ]
  },
  {
   "cell_type": "code",
   "execution_count": 20,
   "id": "276fd970-ea70-4d2c-9405-a5faecb5a00a",
   "metadata": {},
   "outputs": [
    {
     "name": "stdout",
     "output_type": "stream",
     "text": [
      "{'_id': ObjectId('636af270c92d6259a699ae33'), 'name': 'Donald', 'species': 'duck'}\n",
      "{'_id': ObjectId('636af270c92d6259a699ae34'), 'name': 'Daisy', 'species': 'duck'}\n"
     ]
    }
   ],
   "source": [
    "query = {'species': 'duck'}\n",
    "results = my_first_collection.find(query)\n",
    "for result in results:\n",
    "    print(result)"
   ]
  },
  {
   "cell_type": "code",
   "execution_count": 22,
   "id": "5cdc3105-ce5a-40fd-9d09-e6fced86257e",
   "metadata": {},
   "outputs": [
    {
     "data": {
      "text/plain": [
       "[{'_id': ObjectId('636af1c0c92d6259a699ae32'), 'name': 'Minnie', 'age': 90},\n",
       " {'_id': 3, 'name': 'Goofy', 'age': 87, 'species': 'dog'}]"
      ]
     },
     "execution_count": 22,
     "metadata": {},
     "output_type": "execute_result"
    }
   ],
   "source": [
    "query = {'age': {'$gt': 85}}\n",
    "results = my_first_collection.find(query)\n",
    "[result for result in results]"
   ]
  },
  {
   "cell_type": "code",
   "execution_count": 23,
   "id": "f6a0e508-5d98-4352-85fe-14bd349df44c",
   "metadata": {},
   "outputs": [
    {
     "data": {
      "text/plain": [
       "[{'_id': 3, 'name': 'Goofy', 'age': 87, 'species': 'dog'}]"
      ]
     },
     "execution_count": 23,
     "metadata": {},
     "output_type": "execute_result"
    }
   ],
   "source": [
    "query = {'age': {'$lt': 88}}\n",
    "results = my_first_collection.find(query)\n",
    "[result for result in results]"
   ]
  },
  {
   "cell_type": "code",
   "execution_count": 26,
   "id": "2852cad6-31f4-462f-b174-eed2dda6bf22",
   "metadata": {},
   "outputs": [
    {
     "data": {
      "text/plain": [
       "[{'_id': ObjectId('636af194c92d6259a699ae31'), 'name': 'Mickey'},\n",
       " {'_id': ObjectId('636af1c0c92d6259a699ae32'), 'name': 'Minnie', 'age': 90},\n",
       " {'_id': 3, 'name': 'Goofy', 'age': 87, 'species': 'dog'}]"
      ]
     },
     "execution_count": 26,
     "metadata": {},
     "output_type": "execute_result"
    }
   ],
   "source": [
    "query = {'name': {'$gt': 'E'}}\n",
    "results = my_first_collection.find(query)\n",
    "[result for result in results]"
   ]
  },
  {
   "cell_type": "code",
   "execution_count": 27,
   "id": "ca9ea0b8-ce64-4c66-8944-f45f8c548fd7",
   "metadata": {},
   "outputs": [
    {
     "data": {
      "text/plain": [
       "[{'_id': ObjectId('636af194c92d6259a699ae31'), 'name': 'Mickey Mouse'},\n",
       " {'_id': ObjectId('636af1c0c92d6259a699ae32'), 'name': 'Minnie', 'age': 90},\n",
       " {'_id': 3, 'name': 'Goofy', 'age': 87, 'species': 'dog'},\n",
       " {'_id': ObjectId('636af270c92d6259a699ae33'),\n",
       "  'name': 'Donald',\n",
       "  'species': 'duck'},\n",
       " {'_id': ObjectId('636af270c92d6259a699ae34'),\n",
       "  'name': 'Daisy',\n",
       "  'species': 'duck'}]"
      ]
     },
     "execution_count": 27,
     "metadata": {},
     "output_type": "execute_result"
    }
   ],
   "source": [
    "query = {'name': 'Mickey'}\n",
    "update = {'$set': {'name': 'Mickey Mouse'}}\n",
    "my_first_collection.update_one(query, update)\n",
    "[result for result in my_first_collection.find()]"
   ]
  },
  {
   "cell_type": "code",
   "execution_count": 28,
   "id": "eae3af88-b54d-43c9-ba82-8c28323e8bac",
   "metadata": {},
   "outputs": [
    {
     "data": {
      "text/plain": [
       "[{'_id': ObjectId('636af194c92d6259a699ae31'), 'name': 'Mickey Mouse'},\n",
       " {'_id': ObjectId('636af1c0c92d6259a699ae32'),\n",
       "  'name': 'Minnie Mouse',\n",
       "  'age': 90},\n",
       " {'_id': 3, 'name': 'Goofy', 'age': 87, 'species': 'dog'},\n",
       " {'_id': ObjectId('636af270c92d6259a699ae33'),\n",
       "  'name': 'Donald',\n",
       "  'species': 'duck'},\n",
       " {'_id': ObjectId('636af270c92d6259a699ae34'),\n",
       "  'name': 'Daisy',\n",
       "  'species': 'duck'}]"
      ]
     },
     "execution_count": 28,
     "metadata": {},
     "output_type": "execute_result"
    }
   ],
   "source": [
    "query = {'name': 'Minnie'}\n",
    "update = {'$set': {'name': 'Minnie Mouse'}}\n",
    "my_first_collection.update_one(query, update)\n",
    "[result for result in my_first_collection.find()]"
   ]
  },
  {
   "cell_type": "code",
   "execution_count": 29,
   "id": "b5849933-e0ce-4bbb-8701-02f799b6d43f",
   "metadata": {},
   "outputs": [
    {
     "data": {
      "text/plain": [
       "[{'_id': ObjectId('636af1c0c92d6259a699ae32'),\n",
       "  'name': 'Minnie Mouse',\n",
       "  'age': 90},\n",
       " {'_id': 3, 'name': 'Goofy', 'age': 87, 'species': 'dog'},\n",
       " {'_id': ObjectId('636af270c92d6259a699ae33'),\n",
       "  'name': 'Donald',\n",
       "  'species': 'duck'},\n",
       " {'_id': ObjectId('636af270c92d6259a699ae34'),\n",
       "  'name': 'Daisy',\n",
       "  'species': 'duck'}]"
      ]
     },
     "execution_count": 29,
     "metadata": {},
     "output_type": "execute_result"
    }
   ],
   "source": [
    "query = {'name': 'Mickey Mouse'}\n",
    "my_first_collection.delete_one(query)\n",
    "[result for result in my_first_collection.find()]"
   ]
  },
  {
   "cell_type": "code",
   "execution_count": 30,
   "id": "cbb9dcdc-9221-4e2a-b51a-03b0ce2bd0fa",
   "metadata": {},
   "outputs": [
    {
     "data": {
      "text/plain": [
       "[{'_id': 3, 'name': 'Goofy', 'age': 87, 'species': 'dog'},\n",
       " {'_id': ObjectId('636af270c92d6259a699ae33'),\n",
       "  'name': 'Donald',\n",
       "  'species': 'duck'},\n",
       " {'_id': ObjectId('636af270c92d6259a699ae34'),\n",
       "  'name': 'Daisy',\n",
       "  'species': 'duck'}]"
      ]
     },
     "execution_count": 30,
     "metadata": {},
     "output_type": "execute_result"
    }
   ],
   "source": [
    "query = {'age': {'$gt':88}}\n",
    "my_first_collection.delete_one(query)\n",
    "[result for result in my_first_collection.find()]"
   ]
  },
  {
   "cell_type": "code",
   "execution_count": 31,
   "id": "e37e77cd-0163-4d8b-af63-bffeb715205f",
   "metadata": {},
   "outputs": [
    {
     "data": {
      "text/plain": [
       "[{'_id': ObjectId('636af270c92d6259a699ae33'),\n",
       "  'name': 'Donald',\n",
       "  'species': 'duck'},\n",
       " {'_id': ObjectId('636af270c92d6259a699ae34'),\n",
       "  'name': 'Daisy',\n",
       "  'species': 'duck'}]"
      ]
     },
     "execution_count": 31,
     "metadata": {},
     "output_type": "execute_result"
    }
   ],
   "source": [
    "query = {'_id': 3}\n",
    "my_first_collection.delete_one(query)\n",
    "[result for result in my_first_collection.find()]"
   ]
  },
  {
   "cell_type": "code",
   "execution_count": 32,
   "id": "78497863-0777-4402-9873-20cf714f13ab",
   "metadata": {},
   "outputs": [
    {
     "data": {
      "text/plain": [
       "[]"
      ]
     },
     "execution_count": 32,
     "metadata": {},
     "output_type": "execute_result"
    }
   ],
   "source": [
    "query = {'species': 'duck'}\n",
    "my_first_collection.delete_many(query)\n",
    "[result for result in my_first_collection.find()]"
   ]
  },
  {
   "cell_type": "code",
   "execution_count": 33,
   "id": "3d5f893d-55f0-4f24-9212-2921b7aa60ff",
   "metadata": {},
   "outputs": [
    {
     "data": {
      "text/plain": [
       "{'nIndexesWas': 1, 'ns': 'my_db.my_collection', 'ok': 1.0}"
      ]
     },
     "execution_count": 33,
     "metadata": {},
     "output_type": "execute_result"
    }
   ],
   "source": [
    "my_first_db.drop_collection('my_collection')"
   ]
  },
  {
   "cell_type": "code",
   "execution_count": 35,
   "id": "58166c96-4718-4448-a852-401a4c9d777e",
   "metadata": {},
   "outputs": [
    {
     "data": {
      "text/plain": [
       "[]"
      ]
     },
     "execution_count": 35,
     "metadata": {},
     "output_type": "execute_result"
    }
   ],
   "source": [
    "my_first_db.list_collection_names()"
   ]
  },
  {
   "cell_type": "code",
   "execution_count": 36,
   "id": "89479037-d5f6-47ae-a7d4-85cd8633b994",
   "metadata": {},
   "outputs": [],
   "source": [
    "mongo.drop_database('my_db')"
   ]
  },
  {
   "cell_type": "code",
   "execution_count": 37,
   "id": "949fcca3-c1bc-4195-86e9-a6041b3db23c",
   "metadata": {},
   "outputs": [
    {
     "data": {
      "text/plain": [
       "['admin', 'config', 'local']"
      ]
     },
     "execution_count": 37,
     "metadata": {},
     "output_type": "execute_result"
    }
   ],
   "source": [
    "mongo.list_database_names()"
   ]
  },
  {
   "cell_type": "code",
   "execution_count": null,
   "id": "507f7689-241f-49ec-80a4-53ca908a03e0",
   "metadata": {},
   "outputs": [],
   "source": []
  }
 ],
 "metadata": {
  "kernelspec": {
   "display_name": "PythonData",
   "language": "python",
   "name": "pythondata"
  },
  "language_info": {
   "codemirror_mode": {
    "name": "ipython",
    "version": 3
   },
   "file_extension": ".py",
   "mimetype": "text/x-python",
   "name": "python",
   "nbconvert_exporter": "python",
   "pygments_lexer": "ipython3",
   "version": "3.8.13"
  }
 },
 "nbformat": 4,
 "nbformat_minor": 5
}
